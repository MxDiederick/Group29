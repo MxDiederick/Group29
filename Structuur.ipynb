{
 "cells": [
  {
   "cell_type": "markdown",
   "id": "ab42f594",
   "metadata": {},
   "source": [
    "\n",
    "# ✅ Notebook Structuur (verplicht in deze volgorde)\n",
    "# 📌 Titel (bovenaan de notebook)\n",
    "Een overkoepelende titel die je onderwerp beschrijft.\n",
    "\n",
    "## 🔍 Introduction\n",
    "Beschrijving van het onderwerp.\n",
    "\n",
    "Overzicht van de meerdere perspectieven die jullie behandelen.\n",
    "\n",
    "Benoem de argumenten per perspectief.\n",
    "\n",
    "## 📊 Dataset and Preprocessing\n",
    "Beschrijving van de datasets die zijn gebruikt:\n",
    "\n",
    "Waar ze vandaan komen.\n",
    "\n",
    "Wat de belangrijkste variabelen zijn.\n",
    "\n",
    "Hoe je de data hebt opgeschoond / gepreprocessed.\n",
    "\n",
    "Benoem eventuele aggregaties en transformaties van de data.\n",
    "\n",
    "## 📈 Perspectives en Arguments\n",
    "1 of meer secties waarin je per perspectief visualisaties toont.\n",
    "\n",
    "Leg per argument uit wat je probeert aan te tonen met de visualisatie.\n",
    "\n",
    "Combineer visualisatie + begeleidende uitleg.\n",
    "\n",
    "Deze secties zijn de kern van je verhaal.\n",
    "\n",
    "## 🧾 (Optioneel) Summary\n",
    "Samenvatting van de inzichten en vergelijking van perspectieven.\n",
    "\n",
    "Niet verplicht, maar aanbevolen.\n",
    "\n",
    "## 🤔 Reflection\n",
    "Wat heb je aangepast op basis van feedback van je TA of peers?\n",
    "\n",
    "Wat heb je geleerd tijdens het maken?\n",
    "\n",
    "Reflecteer op de kwaliteit van je visualisaties met behulp van designrichtlijnen uit de colleges.\n",
    "\n",
    "## 👥 Work Distribution\n",
    "Verdeel wie wat heeft gedaan in het project.\n",
    "\n",
    "Noem namen + taken (zoals preprocessing, visualisaties, schrijven van bepaalde secties, etc.)."
   ]
  }
 ],
 "metadata": {
  "language_info": {
   "name": "python"
  }
 },
 "nbformat": 4,
 "nbformat_minor": 5
}
