{
 "cells": [
  {
   "cell_type": "code",
   "execution_count": 7,
   "id": "c3156b78",
   "metadata": {},
   "outputs": [],
   "source": [
    "import pandas as pd\n",
    "import matplotlib.pyplot as plt\n",
    "import seaborn as sns"
   ]
  },
  {
   "cell_type": "markdown",
   "id": "370081ee",
   "metadata": {},
   "source": [
    "## Perspectief 4: Inkomensongelijkheid\n",
    "\n",
    "Grote verschillen tussen top en basis versterken statusangst, wantrouwen en het gevoel er niet bij te horen.  \n",
    "Die psychosociale stressoren werken als stille sluipers:  \n",
    "ze verhogen chronische ontevredenheid en dragen bij aan depressieve gevoelens los van absolute armoede."
   ]
  },
  {
   "cell_type": "markdown",
   "id": "275be92d",
   "metadata": {},
   "source": [
    "### Gebruikte datasets\n",
    "\n",
    "- **CPDS (Comparative Political Data Set)**  \n",
    "  Bron: University of Bern  \n",
    "  Relevante variabelen: de Gini-coëfficiënt per land/jaar (een maat voor inkomensongelijkheid).\n",
    "\n",
    "- **Burden of Disease – Depressive Disorders (DALY)**  \n",
    "  Bron: OurWorldInData  \n",
    "  Relevante variabelen: Depressieve stoornissen, gemeten in DALYs per 100.000 inwoners (age-standardized, both sexes)\n",
    "\n",
    "- **Happiness (Cantril Ladder Score)**  \n",
    "  Bron: OurWorldInData  \n",
    "  Relevante variabelen: Zelfgerapporteerd geluk (score van 0–10) per land/jaar.\n",
    "\n",
    "## Preprocessing-stappen\n",
    "\n",
    "1. Relevante kolommen geselecteerd uit elk bestand  \n",
    "   - `gini` (inkomensongelijkheid)  \n",
    "   - `depression_rate` (depressieve stoornissen als % van de bevolking)  \n",
    "   - `ladder_score` (zelfgerapporteerd geluk)\n",
    "2. Datasets samengevoegd op basis van land en jaar (`country`, `year`)\n",
    "3. ontbrekende waarden verwijderd\n",
    "4. Per land het gemiddelde genomen van alle beschikbare jaren. Dit zorgt voor 1 datapunt per land met gemiddelde Gini, depressie en geluk\n",
    "5. Gini-coëfficiënt opgedeeld in 3 groepen (laag / midden / hoog) op basis van kwantielen (gebruikt om groepsverschillen in depressie en geluk visueel weer te geven)\n"
   ]
  },
  {
   "cell_type": "code",
   "execution_count": 8,
   "id": "05abbb45",
   "metadata": {},
   "outputs": [
    {
     "data": {
      "text/html": [
       "<div>\n",
       "<style scoped>\n",
       "    .dataframe tbody tr th:only-of-type {\n",
       "        vertical-align: middle;\n",
       "    }\n",
       "\n",
       "    .dataframe tbody tr th {\n",
       "        vertical-align: top;\n",
       "    }\n",
       "\n",
       "    .dataframe thead th {\n",
       "        text-align: right;\n",
       "    }\n",
       "</style>\n",
       "<table border=\"1\" class=\"dataframe\">\n",
       "  <thead>\n",
       "    <tr style=\"text-align: right;\">\n",
       "      <th></th>\n",
       "      <th>country</th>\n",
       "      <th>year</th>\n",
       "      <th>gini</th>\n",
       "      <th>ladder_score</th>\n",
       "      <th>depression_daly</th>\n",
       "      <th>gini_group</th>\n",
       "    </tr>\n",
       "  </thead>\n",
       "  <tbody>\n",
       "    <tr>\n",
       "      <th>0</th>\n",
       "      <td>Australia</td>\n",
       "      <td>2016.00</td>\n",
       "      <td>31.5000</td>\n",
       "      <td>7.265333</td>\n",
       "      <td>813.999533</td>\n",
       "      <td>High inequality</td>\n",
       "    </tr>\n",
       "    <tr>\n",
       "      <th>1</th>\n",
       "      <td>Austria</td>\n",
       "      <td>2015.25</td>\n",
       "      <td>27.8625</td>\n",
       "      <td>7.200025</td>\n",
       "      <td>520.676389</td>\n",
       "      <td>Low inequality</td>\n",
       "    </tr>\n",
       "    <tr>\n",
       "      <th>2</th>\n",
       "      <td>Belgium</td>\n",
       "      <td>2015.25</td>\n",
       "      <td>25.8750</td>\n",
       "      <td>6.943812</td>\n",
       "      <td>624.431468</td>\n",
       "      <td>Low inequality</td>\n",
       "    </tr>\n",
       "    <tr>\n",
       "      <th>3</th>\n",
       "      <td>Canada</td>\n",
       "      <td>2015.25</td>\n",
       "      <td>31.2875</td>\n",
       "      <td>7.370138</td>\n",
       "      <td>545.253928</td>\n",
       "      <td>High inequality</td>\n",
       "    </tr>\n",
       "    <tr>\n",
       "      <th>4</th>\n",
       "      <td>Denmark</td>\n",
       "      <td>2017.00</td>\n",
       "      <td>28.0000</td>\n",
       "      <td>7.569720</td>\n",
       "      <td>596.333348</td>\n",
       "      <td>Low inequality</td>\n",
       "    </tr>\n",
       "  </tbody>\n",
       "</table>\n",
       "</div>"
      ],
      "text/plain": [
       "     country     year     gini  ladder_score  depression_daly       gini_group\n",
       "0  Australia  2016.00  31.5000      7.265333       813.999533  High inequality\n",
       "1    Austria  2015.25  27.8625      7.200025       520.676389   Low inequality\n",
       "2    Belgium  2015.25  25.8750      6.943812       624.431468   Low inequality\n",
       "3     Canada  2015.25  31.2875      7.370138       545.253928  High inequality\n",
       "4    Denmark  2017.00  28.0000      7.569720       596.333348   Low inequality"
      ]
     },
     "execution_count": 8,
     "metadata": {},
     "output_type": "execute_result"
    }
   ],
   "source": [
    "# Dataset inladen\n",
    "gini_df = pd.read_excel(\"db/cpds-1960-2022-update-2024-2.xlsx\", sheet_name=\"DATA\")[['country', 'year', 'postfisc_gini']]\n",
    "gini_df.columns = ['country', 'year', 'gini']\n",
    "\n",
    "happiness_df = pd.read_csv(\"db/happiness-cantril-ladder.csv\")[['Entity', 'Year', 'Cantril ladder score']]\n",
    "happiness_df.columns = ['country', 'year', 'ladder_score']\n",
    "\n",
    "burden_df = pd.read_csv(\"db/2- burden-disease-from-each-mental-illness(1).csv\")[[\n",
    "    'Entity', 'Year',\n",
    "    'DALYs (rate) - Sex: Both - Age: Age-standardized - Cause: Depressive disorders'\n",
    "]]\n",
    "burden_df.columns = ['country', 'year', 'depression_daly']\n",
    "\n",
    "# Merge datasets\n",
    "df = gini_df.merge(happiness_df, on=['country', 'year'])\n",
    "df = df.merge(burden_df, on=['country', 'year'])\n",
    "df = df.dropna()\n",
    "\n",
    "# Gemiddelde per land\n",
    "mean_df = df.groupby('country', as_index=False).mean(numeric_only=True)\n",
    "\n",
    "# Categoriseer ongelijkheid\n",
    "quantiles = mean_df['gini'].quantile([0.33, 0.66])\n",
    "mean_df['gini_group'] = pd.cut(\n",
    "    mean_df['gini'],\n",
    "    bins=[-float('inf'), quantiles[0.33], quantiles[0.66], float('inf')],\n",
    "    labels=['Low inequality', 'Medium', 'High inequality']\n",
    ")\n",
    "\n",
    "\n",
    "mean_df.head()\n"
   ]
  },
  {
   "cell_type": "code",
   "execution_count": 9,
   "id": "ed1054dc",
   "metadata": {},
   "outputs": [
    {
     "name": "stdout",
     "output_type": "stream",
     "text": [
      "                     gini  depression_daly  ladder_score\n",
      "gini             1.000000         0.303216     -0.178575\n",
      "depression_daly  0.303216         1.000000      0.385452\n",
      "ladder_score    -0.178575         0.385452      1.000000\n"
     ]
    }
   ],
   "source": [
    "correlaties = df[['gini', 'depression_daly', 'ladder_score']].corr(method='pearson')\n",
    "print(correlaties)"
   ]
  },
  {
   "cell_type": "markdown",
   "id": "fa89d0e8",
   "metadata": {},
   "source": [
    "**Figuur 4.1: Correlaties tussen ongelijkheid, depressie en geluk**\n",
    "\n",
    "Deze tabel toont de Pearson-correlaties tussen de Gini-coëfficiënt (inkomensongelijkheid), depressie (DALY) en geluk (Cantril ladder score). We zien dat inkomensongelijkheid positief samenhangt met depressie (r = 0.30) en negatief met geluk (r = –0.18)."
   ]
  },
  {
   "cell_type": "code",
   "execution_count": 10,
   "id": "839c9908",
   "metadata": {},
   "outputs": [
    {
     "name": "stdout",
     "output_type": "stream",
     "text": [
      "Laagste gemiddelde: 552.24, Hoogste gemiddelde: 686.27\n"
     ]
    }
   ],
   "source": [
    "# Gemiddelde depressie per ongelijkheidsgroep\n",
    "depr_per_group = mean_df.groupby('gini_group')['depression_daly'].mean()\n",
    "\n",
    "# Laagste en hoogste gemiddelde\n",
    "laagste = depr_per_group.min()\n",
    "hoogste = depr_per_group.max()\n",
    "\n",
    "print(f\"Laagste gemiddelde: {laagste:.2f}, Hoogste gemiddelde: {hoogste:.2f}\")"
   ]
  },
  {
   "cell_type": "markdown",
   "id": "88dad086",
   "metadata": {},
   "source": [
    "Deze code berekent het gemiddelde niveau van depressie (uitgedrukt in DALY per 100.000 inwoners) voor drie groepen landen, ingedeeld op basis van inkomensongelijkheid (laag, gemiddeld en hoog, volgens de Gini-coëfficiënt). Vervolgens worden de laagste en hoogste groepsgemiddelden weergegeven, om inzicht te geven in de verschillen tussen samenlevingen met weinig en veel ongelijkheid."
   ]
  },
  {
   "cell_type": "markdown",
   "id": "6bf8a703",
   "metadata": {},
   "source": [
    "### Argument 1: Ongelijkheid vergroot status, stress en sociale vergelijking.\n",
    "\n",
    "In ongelijke samenlevingen vergelijken mensen zich vaker met rijkere groepen.  \n",
    "Dit leidt tot gevoelens van tekortschieten, falen en sociale uitsluiting.  \n",
    "De ‘status anxiety’-theorie (Wilkinson & Pickett) stelt dat zulke samenlevingen meer mentale druk ervaren.\n",
    "\n",
    "*Onderbouwing:*  \n",
    "- Gini-coëfficiënt ↔ depressie_daly: r = 0.303216\n",
    "- Landen met hoge ongelijkheid rapporteren gemiddeld meer depressie\n",
    "  (_laag: 552.24, hoog: 686.27_)"
   ]
  },
  {
   "cell_type": "markdown",
   "id": "780735ba",
   "metadata": {},
   "source": [
    "### Argument 2: Gedeelde middelen nemen af, waardoor sociale samenhang verzwakt\n",
    "\n",
    "Als inkomensverschillen toenemen, vermindert het vertrouwen in de samenleving.  \n",
    "Mensen investeren minder in publieke goederen, wat leidt tot vervreemding en eenzaamheid.\n",
    "\n",
    "*Onderbouwing:*  \n",
    "- Gini ↔ geluk (Cantril ladder score): r = –0.178575\n",
    "- Landen met hoge ongelijkheid zijn gemiddeld minder gelukkig (_laag: 6.41, hoog: 6.85_)"
   ]
  },
  {
   "cell_type": "code",
   "execution_count": 11,
   "id": "8a42ea29",
   "metadata": {},
   "outputs": [
    {
     "name": "stdout",
     "output_type": "stream",
     "text": [
      "Laagste gelukscore: 6.41, Hoogste gelukscore: 6.85\n"
     ]
    }
   ],
   "source": [
    "# Gemiddelde geluksscore per ongelijkheidsgroep\n",
    "geluk_per_group = mean_df.groupby('gini_group')['ladder_score'].mean()\n",
    "\n",
    "laagste_geluk = geluk_per_group.min()\n",
    "hoogste_geluk = geluk_per_group.max()\n",
    "\n",
    "print(f\"Laagste gelukscore: {laagste_geluk:.2f}, Hoogste gelukscore: {hoogste_geluk:.2f}\")"
   ]
  },
  {
   "cell_type": "markdown",
   "id": "1e723685",
   "metadata": {},
   "source": [
    "\n",
    "Deze code berekent de gemiddelde Cantril ladder-scores per inkomensongelijkheidsgroep. Landen met gemiddelde ongelijkheid scoren het hoogst op geluk (6.85), terwijl landen met hoge of lage ongelijkheid lagere scores laten zien (laagste: 6.41). "
   ]
  },
  {
   "cell_type": "code",
   "execution_count": 12,
   "id": "260692cd",
   "metadata": {},
   "outputs": [
    {
     "name": "stderr",
     "output_type": "stream",
     "text": [
      "/Users/jankawak/anaconda3/lib/python3.11/site-packages/seaborn/axisgrid.py:118: UserWarning: The figure layout has changed to tight\n",
      "  self._figure.tight_layout(*args, **kwargs)\n"
     ]
    },
    {
     "data": {
      "image/png": "[encoded data removed]",
      "text/plain": [
       "<Figure size 1000x500 with 2 Axes>"
      ]
     },
     "metadata": {},
     "output_type": "display_data"
    }
   ],
   "source": [
    "# Gemiddeldes per groep\n",
    "group_means = mean_df.groupby('gini_group')[['ladder_score', 'depression_daly']].mean().reset_index()\n",
    "\n",
    "# Omzetten naar lange vorm\n",
    "melted = group_means.melt(id_vars='gini_group', var_name='Indicator', value_name='Gemiddelde waarde')\n",
    "\n",
    "# Labels aanpassen voor duidelijkheid\n",
    "indicator_labels = {\n",
    "    'ladder_score': 'Geluksscore (Cantril ladder)',\n",
    "    'depression_daly': 'Depressie (DALY per 100.000)'\n",
    "}\n",
    "melted['Indicator'] = melted['Indicator'].replace(indicator_labels)\n",
    "\n",
    "# Facet barplots\n",
    "g = sns.catplot(\n",
    "    data=melted,\n",
    "    kind='bar',\n",
    "    x='gini_group',\n",
    "    y='Gemiddelde waarde',\n",
    "    col='Indicator',\n",
    "    palette='Set2',\n",
    "    sharey=False\n",
    ")\n",
    "\n",
    "g.fig.subplots_adjust(top=0.8)\n",
    "g.fig.suptitle('Mentale gezondheid per ongelijkheidsgroep')\n",
    "g.set_titles('{col_name}')\n",
    "g.set_axis_labels('Ongelijkheidsgroep', '')\n",
    "g.set_xticklabels(rotation=0)\n",
    "for ax in g.axes.flatten():\n",
    "    ax.grid(axis='y', linestyle='--', alpha=0.5)\n",
    "\n",
    "plt.show()\n"
   ]
  },
  {
   "cell_type": "markdown",
   "id": "9a82ce5d",
   "metadata": {},
   "source": [
    "**Figuur 4.2 : Mentale gezondheid per ongelijkheidsgroep** \n",
    " \n",
    "Deze visualisatie toont het verband tussen inkomensongelijkheid en mentaal welzijn, uitgesplitst per ongelijkheidsgroep op basis van de Gini-coëfficiënt (laag, gemiddeld, hoog). De linker grafiek toont de gemiddelde geluksscore (Cantril ladder; schaal 0–10), terwijl de rechter grafiek het gemiddelde aantal ziektelastjaren (DALY's) door depressieve stoornissen per 100.000 inwoners weergeeft. De x-as toont de mate van ongelijkheid, en de y-assen geven respectievelijk het geluksniveau en het aantal DALY’s aan. De grafiek laat zien dat landen met hogere ongelijkheid gemiddeld minder gelukkig zijn en meer depressielast kennen. Dit ondersteunt de hypothese dat ongelijkheid negatieve psychologische effecten heeft via verhoogde stress en sociale uitsluiting."
   ]
  },
  {
   "cell_type": "markdown",
   "id": "05167927",
   "metadata": {},
   "source": [
    "## Conclusie\n",
    "\n",
    "De visualisaties in dit perspectief tonen hoe inkomensongelijkheid samenhangt met slechter mentaal welzijn. In landen met een hoge Gini-coëfficiënt komt depressie vaker voor en scoren mensen gemiddeld lager op de Cantril ladder van ervaren geluk. Dit ondersteunt twee centrale mechanismen: ten eerste vergroot ongelijkheid de statusstress en sociale vergelijking, wat leidt tot mentale druk. Ten tweede ondermijnt ongelijkheid de sociale cohesie en het vertrouwen in anderen, wat het algemeen welzijn verlaagt.\n",
    "De data tonen dat ongelijkheid het psychologisch en sociaal functioneren van samenlevingen aanzienlijk beïnvloedt.\n",
    "\n"
   ]
  }
 ],
 "metadata": {
  "kernelspec": {
   "display_name": "base",
   "language": "python",
   "name": "python3"
  },
  "language_info": {
   "codemirror_mode": {
    "name": "ipython",
    "version": 3
   },
   "file_extension": ".py",
   "mimetype": "text/x-python",
   "name": "python",
   "nbconvert_exporter": "python",
   "pygments_lexer": "ipython3",
   "version": "3.11.5"
  }
 },
 "nbformat": 4,
 "nbformat_minor": 5
}
