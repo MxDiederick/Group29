# %%  🔹  Eén enkele cel – klaar om te plakken in Jupyter / GitHub
from IPython.display import Markdown, Image, display
import pandas as pd

# ──────────────────────────────────────────────────────────────────────────────
# Titel + beschrijving
display(Markdown("# Perspectief 4\n\n## Heatmap – mentale variabelen × social expenditure"))

# ──────────────────────────────────────────────────────────────────────────────
# Heatmap-afbeelding (zorg dat het pad klopt)
display(Image('af60c0a2-7af0-4c7a-bf86-dc1ac9edab79.png'))

# ──────────────────────────────────────────────────────────────────────────────
# Tabel met topcorrelaties
top_corr = pd.DataFrame({
    "Mentale variabele": ["Life-ladder", "Life-ladder", "Bipolar %", "Eating dis. %", "Schizophrenia %", "Schizophrenia %"],
    "Sociale uitgave":   ["In-kind soc. exp.", "Incapacity ben.", "In-kind soc. exp.",
                          "Mat./Pat. leave", "Total soc. exp.", "Old-age ben."],
    "Pearson r":         [0.800050, 0.738511, 0.695962, -0.513306, -0.432763, -0.428110]
})
display(Markdown("## Topcorrelaties"))
display(top_corr)

# ──────────────────────────────────────────────────────────────────────────────
# Verdere vragen
display(Markdown("""
**Q1**  
Wat zou je veranderen aan de visualisatie om ook het betrouwbaarheidsniveau van elke correlatie te tonen?

**Q2**  
Hoe zou je de causale richting onderzoeken tussen “In-kind social expenditure” en score op de Life-ladder?

**Q3**  
Welke aanvullende variabelen (buiten sociale uitgaven) verwacht je dat de mentale gezondheidspatronen nog sterker voorspellen?
"""))
