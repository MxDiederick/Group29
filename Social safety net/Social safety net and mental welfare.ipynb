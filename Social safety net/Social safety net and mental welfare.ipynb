{
 "cells": [
  {
   "cell_type": "code",
   "execution_count": null,
   "metadata": {},
   "outputs": [],
   "source": [
    "from IPython.display import Markdown, Image, display\n",
    "import pandas as pd\n",
    "\n",
    "# ─── Titel & heatmap ────────────────────────────────────────────────────────\n",
    "display(Markdown(\"# Perspectief 4\\n\\n## Heatmap – mentale variabelen × social expenditure\"))\n",
    "display(Image(\"af60c0a2-7af0-4c7a-bf86-dc1ac9edab79.png\"))  # pas pad aan indien nodig\n",
    "\n",
    "# ─── Tabel met topcorrelaties ───────────────────────────────────────────────\n",
    "top_corr = pd.DataFrame({\n",
    "    \"Mentale variabele\": [\n",
    "        \"Life-ladder\", \"Life-ladder\", \"Bipolar %\",\n",
    "        \"Eating dis. %\", \"Schizophrenia %\", \"Schizophrenia %\"\n",
    "    ],\n",
    "    \"Sociale uitgave\": [\n",
    "        \"In-kind soc. exp.\", \"Incapacity ben.\", \"In-kind soc. exp.\",\n",
    "        \"Mat./Pat. leave\", \"Total soc. exp.\", \"Old-age ben.\"\n",
    "    ],\n",
    "    \"Pearson r\": [0.800050, 0.738511, 0.695962, -0.513306, -0.432763, -0.428110]\n",
    "})\n",
    "display(Markdown(\"## Topcorrelaties\"))\n",
    "display(top_corr)\n",
    "\n",
    "# ─── Follow-up vragen ──────────────────────────────────────────────────────\n",
    "display(Markdown(\n",
    "    \"\"\"**Q1**  \\\\n",
    "Hoe zou je het betrouwbaarheidsniveau (p-waarde of CI) per correlatie visueel toevoegen?  \\\\n",
    "\\n\\n**Q2**  \\\\n",
    "Welke aanpak gebruik je om causaliteit tussen ‘In-kind social expenditure’ en de Life-ladderscore te toetsen?  \\\\n",
    "\\n\\n**Q3**  \\\\n",
    "Welke externe variabelen voorspellen mentale gezondheid waarschijnlijk nóg sterker dan sociale uitgaven?\"\"\"\n",
    "))\n"
   ]
  }
 ],
 "metadata": {
  "kernelspec": {
   "display_name": "Python 3",
   "language": "python",
   "name": "python3"
  },
  "language_info": {
   "name": "python",
   "version": "3.x"
  }
 },
 "nbformat": 4,
 "nbformat_minor": 5
}
