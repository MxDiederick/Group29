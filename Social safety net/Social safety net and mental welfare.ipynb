# 📘 Titel van jullie Data Story

---

## 📖 Introduction

- Korte uitleg over het onderwerp
- Wat zijn de twee (of meer) perspectieven?
- Welke argumenten horen bij elk perspectief?
- Waarom is dit onderwerp belangrijk?

---

## 📊 Dataset and Preprocessing

- Beschrijving van de gebruikte datasets  
- Herkomst en bronnen van data  
- Uitleg van preprocessing stappen  
- Codevoorbeelden hieronder:

```python
# Voorbeeld: data inladen en eerste verkenning
import pandas as pd

df = pd.read_csv('jullie_dataset.csv')
df.head()

