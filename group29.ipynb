{
 "cells": [
  {
   "cell_type": "markdown",
   "id": "9463067c",
   "metadata": {},
   "source": [
    "# Onderzoek naar mentale gezondheid"
   ]
  },
  {
   "cell_type": "markdown",
   "id": "130f5e36",
   "metadata": {},
   "source": [
    "## Introduction"
   ]
  },
  {
   "cell_type": "markdown",
   "id": "341a67ea",
   "metadata": {},
   "source": [
    "Purpose: Introduce the topic, explain why it matters, and present the perspectives and arguments you'll explore.\n",
    "\n",
    "Include:\n",
    "\n",
    "A clear title for your story.\n",
    "\n",
    "A short summary of the topic or question you're addressing.\n",
    "\n",
    "Motivation: Why is this topic relevant or interesting?\n",
    "\n",
    "Describe at least two different perspectives (e.g., different stakeholder views, societal angles, or contrasting theories).\n",
    "\n",
    "A brief overview of the arguments each perspective will cover.\n",
    "\n",
    "✅ Tip: Keep it accessible — write for an intelligent reader with no prior domain knowledge.\n",
    "\n"
   ]
  },
  {
   "cell_type": "markdown",
   "id": "965aa957",
   "metadata": {},
   "source": [
    "## Multiple Perspectives + Visualizations"
   ]
  },
  {
   "cell_type": "markdown",
   "id": "02b34b81",
   "metadata": {},
   "source": [
    "Purpose: Tell your data story with visualizations and reasoning, organized by perspective.\n",
    "\n",
    "Structure:\n",
    "You can use one section per perspective, like:\n",
    "\n",
    "🔹 Perspective 1: [Name or viewpoint]\n",
    "Briefly explain the viewpoint.\n",
    "\n",
    "Present 1 or more arguments backed by visualizations.\n",
    "\n",
    "Add short explanations (insight, interpretation, context).\n",
    "\n",
    "🔹 Perspective 2: [Other viewpoint]\n",
    "Same as above: argument + visualization + explanation.\n",
    "\n",
    "Include:\n",
    "\n",
    "At least 6 visualizations (max 8).\n",
    "\n",
    "At least 3 different types of charts (e.g., bar, line, heatmap).\n",
    "\n",
    "At least 1 multivariate visualization.\n",
    "\n",
    "Optional: at least 1 interactive visualization (bonus).\n",
    "\n",
    "✅ Tip: Every plot should have a caption and insight takeaway."
   ]
  },
  {
   "cell_type": "markdown",
   "id": "5680c501",
   "metadata": {},
   "source": [
    "## Reflection"
   ]
  },
  {
   "cell_type": "markdown",
   "id": "71e1f9d0",
   "metadata": {},
   "source": [
    "Purpose: Reflect on your own work and any feedback you received.\n",
    "\n",
    "Include:\n",
    "\n",
    "How TA or peer feedback helped you improve your story.\n",
    "\n",
    "What you changed or added based on feedback.\n",
    "\n",
    "Self-evaluation: what worked well, what could be better.\n",
    "\n",
    "Reference any design principles you applied (e.g., from lectures).\n",
    "\n",
    "✅ Tip: Be honest — reflection is about learning and improvement, not perfection.\n",
    "\n"
   ]
  },
  {
   "cell_type": "markdown",
   "id": "64e44854",
   "metadata": {},
   "source": [
    "## Work Distribution"
   ]
  },
  {
   "cell_type": "markdown",
   "id": "b0af24f4",
   "metadata": {},
   "source": [
    "Purpose: Describe what each team member contributed.\n",
    "\n",
    "Include:\n",
    "\n",
    "Names or initials of team members.\n",
    "\n",
    "A list of who did what: e.g.,\n",
    "\n",
    "Data cleaning: [Name]\n",
    "\n",
    "Visualizations: [Name]\n",
    "\n",
    "Story writing: [Name]\n",
    "\n",
    "Preprocessing code: [Name]\n",
    "\n",
    "Project coordination: [Name]\n",
    "\n",
    "✅ Tip: This is to show fair workload division. Keep it short but clear."
   ]
  }
 ],
 "metadata": {
  "language_info": {
   "name": "python"
  }
 },
 "nbformat": 4,
 "nbformat_minor": 5
}
