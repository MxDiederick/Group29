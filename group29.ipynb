{
 "cells": [
  {
   "cell_type": "markdown",
   "id": "9463067c",
   "metadata": {},
   "source": [
    "# Onderzoek naar mentale gezondheid"
   ]
  },
  {
   "cell_type": "markdown",
   "id": "130f5e36",
   "metadata": {},
   "source": [
    "## Introduction"
   ]
  },
  {
   "cell_type": "markdown",
   "id": "f953210b",
   "metadata": {},
   "source": [
    "## Dataset and Preprocessing"
   ]
  },
  {
   "cell_type": "markdown",
   "id": "965aa957",
   "metadata": {},
   "source": [
    "## Multiple Perspectives + Visualizations"
   ]
  },
  {
   "cell_type": "markdown",
   "id": "5680c501",
   "metadata": {},
   "source": [
    "## Reflection"
   ]
  },
  {
   "cell_type": "markdown",
   "id": "64e44854",
   "metadata": {},
   "source": [
    "## Work Distribution"
   ]
  }
 ],
 "metadata": {
  "language_info": {
   "name": "python"
  }
 },
 "nbformat": 4,
 "nbformat_minor": 5
}
